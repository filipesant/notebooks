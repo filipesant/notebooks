{
 "cells": [
  {
   "cell_type": "markdown",
   "metadata": {},
   "source": [
    "# Binary Search\n",
    "---\n",
    "1. This search will take Log2N steps to run in the worst case\n",
    "2. Simple search will take N steps;\n",
    "3. The data must be sorted\n"
   ]
  },
  {
   "cell_type": "code",
   "execution_count": 195,
   "metadata": {},
   "outputs": [],
   "source": [
    "import math"
   ]
  },
  {
   "cell_type": "code",
   "execution_count": 196,
   "metadata": {},
   "outputs": [],
   "source": [
    "def binary_search(itens, item):\n",
    "    low = 0\n",
    "    high = len(itens) - 1\n",
    "\n",
    "    while low <= high:\n",
    "        mid = math.floor((low + high) / 2)\n",
    "        guess = itens[mid]\n",
    "        if guess == item:\n",
    "            return mid\n",
    "        if guess < item:\n",
    "            low = mid + 1\n",
    "        else:\n",
    "            high = mid - 1\n",
    "    return None"
   ]
  },
  {
   "cell_type": "code",
   "execution_count": 197,
   "metadata": {},
   "outputs": [
    {
     "name": "stderr",
     "output_type": "stream",
     "text": [
      "test_binary_search_last_position (__main__.TestNotebook) ... ok\n",
      "test_binary_search_middle_position (__main__.TestNotebook) ... ok\n",
      "test_binary_search_not_found (__main__.TestNotebook) ... ok\n",
      "test_binary_search_position_0 (__main__.TestNotebook) ... ok\n",
      "test_binary_search_position_1 (__main__.TestNotebook) ... ok\n",
      "\n",
      "----------------------------------------------------------------------\n",
      "Ran 5 tests in 0.006s\n",
      "\n",
      "OK\n"
     ]
    },
    {
     "data": {
      "text/plain": [
       "<unittest.main.TestProgram at 0x29c9d33c760>"
      ]
     },
     "execution_count": 197,
     "metadata": {},
     "output_type": "execute_result"
    }
   ],
   "source": [
    "import unittest\n",
    "\n",
    "class TestNotebook(unittest.TestCase):\n",
    "    test_list = [1,3,5,7,9,13]\n",
    "\n",
    "    def test_binary_search_position_0(self):\n",
    "        self.assertEqual(binary_search(self.test_list, 1), 0)\n",
    "\n",
    "    def test_binary_search_position_1(self):\n",
    "        self.assertEqual(binary_search(self.test_list, 3), 1)\n",
    "\n",
    "    def test_binary_search_middle_position(self):\n",
    "        self.assertEqual(binary_search(self.test_list, 7), 3)\n",
    "    \n",
    "    def test_binary_search_last_position(self):\n",
    "        self.assertEqual(binary_search(self.test_list,13), 5)\n",
    "\n",
    "    def test_binary_search_not_found(self):\n",
    "        self.assertEqual(binary_search(self.test_list,15), None)\n",
    "\n",
    "unittest.main(argv=[''], verbosity=2, exit=False)"
   ]
  },
  {
   "cell_type": "code",
   "execution_count": 198,
   "metadata": {},
   "outputs": [],
   "source": [
    "def binary_search_recursive(itens, low, high, item):        \n",
    "    \n",
    "    mid = math.floor((low + high) / 2)\n",
    "    guess = itens[mid]\n",
    "\n",
    "    if guess == item:\n",
    "        return mid\n",
    "\n",
    "    if low == high:        \n",
    "        return None\n",
    "    \n",
    "    if guess < item:\n",
    "        low = mid + 1\n",
    "        return binary_search_recursive(itens, low, high, item)\n",
    "    else:\n",
    "        high = mid - 1\n",
    "        return binary_search_recursive(itens, low, high, item)\n",
    "    "
   ]
  },
  {
   "cell_type": "code",
   "execution_count": 199,
   "metadata": {},
   "outputs": [
    {
     "name": "stderr",
     "output_type": "stream",
     "text": [
      "test_binary_search_recursive_first_position (__main__.TestNotebook) ... ok\n",
      "test_binary_search_recursive_last_position (__main__.TestNotebook) ... ok\n",
      "test_binary_search_recursive_middle_position (__main__.TestNotebook) ... ok\n",
      "test_binary_search_recursive_not_found (__main__.TestNotebook) ... ok\n",
      "\n",
      "----------------------------------------------------------------------\n",
      "Ran 4 tests in 0.005s\n",
      "\n",
      "OK\n"
     ]
    },
    {
     "data": {
      "text/plain": [
       "<unittest.main.TestProgram at 0x29c9d33c040>"
      ]
     },
     "execution_count": 199,
     "metadata": {},
     "output_type": "execute_result"
    }
   ],
   "source": [
    "import unittest\n",
    "\n",
    "class TestNotebook(unittest.TestCase):\n",
    "    test_list = [1, 2, 3, 4, 5, 6, 7]\n",
    "    test_list_size = len(test_list) - 1\n",
    "    test_list_mid = math.floor(test_list_size / 2)\n",
    "\n",
    "    def test_binary_search_recursive_first_position(self):\n",
    "        self.assertEqual(binary_search_recursive(self.test_list, 0, self.test_list_size, self.test_list[0]), 0)  \n",
    "\n",
    "    def test_binary_search_recursive_last_position(self):\n",
    "        self.assertEqual(binary_search_recursive(self.test_list, 0, self.test_list_size, self.test_list[self.test_list_size]), self.test_list_size)\n",
    "\n",
    "    def test_binary_search_recursive_middle_position(self):\n",
    "        self.assertEqual(binary_search_recursive(self.test_list, 0, self.test_list_size, self.test_list[self.test_list_mid]), self.test_list_mid)  \n",
    "    \n",
    "    def test_binary_search_recursive_not_found(self):\n",
    "        self.assertEqual(binary_search_recursive(self.test_list, 0, self.test_list_size, 8), None)  \n",
    "\n",
    "unittest.main(argv=[''], verbosity=2, exit=False)"
   ]
  }
 ],
 "metadata": {
  "kernelspec": {
   "display_name": "Python 3",
   "language": "python",
   "name": "python3"
  },
  "language_info": {
   "codemirror_mode": {
    "name": "ipython",
    "version": 3
   },
   "file_extension": ".py",
   "mimetype": "text/x-python",
   "name": "python",
   "nbconvert_exporter": "python",
   "pygments_lexer": "ipython3",
   "version": "3.10.0"
  }
 },
 "nbformat": 4,
 "nbformat_minor": 2
}
